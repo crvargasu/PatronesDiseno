{
 "cells": [
  {
   "cell_type": "markdown",
   "metadata": {},
   "source": [
    "***UN PROBLEMA, DOS SOLUCIONES***\n",
    "\n",
    "***Problema: Creación de muchos tipos específicos de algo en partícular y su interacción entre ellos.***\n",
    "\n",
    "***La idea es separar las partes del proceso***\n",
    "\n",
    "***Si con Template_method definiamos tipos de algo específico, acá estamos definiendo la creación de los distintos componentes que integran el sistema. Template_method apunta a algo más específico***\n",
    "\n",
    "***EJEMPLOS:*** \n",
    "\n",
    "***Animales:*** \n",
    "\n",
    "***1)Factory_method: Creación de distintos animales.***\n",
    "\n",
    "***2)Template_method: Creación de disntintas razas de perros, tipos de tigres, razas de caballos***\n",
    "\n",
    "\n",
    "***Vehículos*** \n",
    "\n",
    "***1)Factory_method: Creación de distintos vehículos: Helicóptero, Auto, Camiones, Motos.***\n",
    "\n",
    "***2)Template_method: Creación de diversas marcas de autos, marcas de helicópteros, tipos de camiones, etc***\n",
    "\n",
    "\n",
    "***MISMO PROBLEMA QUE ABSTRACT_METHOD***\n",
    "\n",
    "***Factory_method usa herencia en lugar de agregación***\n"
   ]
  },
  {
   "cell_type": "markdown",
   "metadata": {},
   "source": [
    "Define una interfaz para la creación de un objeto pero delega a las subclases que deciden qué clase instanciar. "
   ]
  },
  {
   "cell_type": "markdown",
   "metadata": {},
   "source": [
    "Este patrón es en realidad el patrón template method aplicado al problema de creación de objetos, se crean clases herederas para que realicen la acción de crear. Por lo que se separan: ***las acciones del animal (clases con sus acciones), el crear el animal (clase que crea el animal y heredan de la abstracta) y la ejecución de sus acciones (clase abstracta).***\n",
    "\n",
    "Primero instanciamos las acciones de los animales"
   ]
  },
  {
   "cell_type": "code",
   "execution_count": 6,
   "metadata": {},
   "outputs": [
    {
     "data": {
      "text/plain": [
       ":sleep"
      ]
     },
     "execution_count": 6,
     "metadata": {},
     "output_type": "execute_result"
    }
   ],
   "source": [
    "class Duck\n",
    "    def initialize(name) \n",
    "      @name = name \n",
    "    end\n",
    "    def eat \n",
    "      puts(\"Duck #{@name} is eating.\") \n",
    "    end\n",
    "    def speak \n",
    "      puts(\"Duck #{@name} says Quack!\") \n",
    "    end\n",
    "    def sleep \n",
    "      puts(\"Duck #{@name} sleeps quietly.\")\n",
    "    end \n",
    "  end\n",
    "  \n",
    "  class Frog\n",
    "    def initialize(name) \n",
    "      @name = name \n",
    "    end\n",
    "    def eat \n",
    "      puts(\"Frog #{@name} is eating.\") \n",
    "    end\n",
    "    def speak \n",
    "      puts(\"Frog #{@name} says Crooooaaaak!\") \n",
    "    end\n",
    "    def sleep \n",
    "      puts(\"Frog #{@name} doesnt sleep, he coreaks all night!\")\n",
    "    end \n",
    "  end\n",
    "\n",
    " "
   ]
  },
  {
   "cell_type": "markdown",
   "metadata": {},
   "source": [
    "Luego instanciamos la clase abstracta. Esta es heredada por las clases de creación de animales y posee el método de interacción."
   ]
  },
  {
   "cell_type": "code",
   "execution_count": 7,
   "metadata": {},
   "outputs": [
    {
     "data": {
      "text/plain": [
       ":simulate_one_day"
      ]
     },
     "execution_count": 7,
     "metadata": {},
     "output_type": "execute_result"
    }
   ],
   "source": [
    "class Pond  \n",
    "    def initialize(number_animals)    \n",
    "        @animals = []    \n",
    "        number_animals.times do |i|\n",
    "            animal = new_animal(\"Animal#{i}\")       \n",
    "            @animals << animal    \n",
    "        end  \n",
    "    end   \n",
    "    def simulate_one_day    \n",
    "        @animals.each {|animal| animal.speak}    \n",
    "        @animals.each {|animal| animal.eat}    \n",
    "        @animals.each {|animal| animal.sleep}  \n",
    "    end \n",
    "end "
   ]
  },
  {
   "cell_type": "markdown",
   "metadata": {},
   "source": [
    "Se instancian estas subclases, las cuales mandan las instrucciones a la clase madre.\n",
    "\n",
    "Las subclases se encargan de crear los objetos, trabajan para su clase madre.\n",
    "La unica misión de estas subclases es crear el objeto, no poseen init."
   ]
  },
  {
   "cell_type": "code",
   "execution_count": 8,
   "metadata": {},
   "outputs": [
    {
     "data": {
      "text/plain": [
       ":new_animal"
      ]
     },
     "execution_count": 8,
     "metadata": {},
     "output_type": "execute_result"
    }
   ],
   "source": [
    "class DuckPond < Pond \n",
    "    def new_animal(name)    \n",
    "        Duck.new(name)  \n",
    "    end\n",
    "end \n",
    "\n",
    "class FrogPond < Pond\n",
    "    def new_animal(name)    \n",
    "        Frog.new(name)  \n",
    "    end  \n",
    "end "
   ]
  },
  {
   "cell_type": "markdown",
   "metadata": {},
   "source": [
    "Dado que la acción de crear clases está relagada en las subclases, se instancian a ellas para crear animales. Recordemos que estas son herencias de la clase madre, por lo que tienen todos sus métodos."
   ]
  },
  {
   "cell_type": "code",
   "execution_count": 9,
   "metadata": {},
   "outputs": [
    {
     "name": "stdout",
     "output_type": "stream",
     "text": [
      "Frog Animal0 says Crooooaaaak!\n",
      "Frog Animal1 says Crooooaaaak!\n",
      "Frog Animal2 says Crooooaaaak!\n",
      "Frog Animal0 is eating.\n",
      "Frog Animal1 is eating.\n",
      "Frog Animal2 is eating.\n",
      "Frog Animal0 doesnt sleep, he coreaks all night!\n",
      "Frog Animal1 doesnt sleep, he coreaks all night!\n",
      "Frog Animal2 doesnt sleep, he coreaks all night!\n"
     ]
    },
    {
     "data": {
      "text/plain": [
       "[#<Frog:0x00007f8df628b988 @name=\"Animal0\">, #<Frog:0x00007f8df628b898 @name=\"Animal1\">, #<Frog:0x00007f8df628b7a8 @name=\"Animal2\">]"
      ]
     },
     "execution_count": 9,
     "metadata": {},
     "output_type": "execute_result"
    }
   ],
   "source": [
    "pond = FrogPond.new(3)\n",
    "pond.simulate_one_day\n"
   ]
  },
  {
   "attachments": {
    "factory_method.png": {
     "image/png": "[encoded data removed]"
    }
   },
   "cell_type": "markdown",
   "metadata": {},
   "source": [
    "![factory_method.png](attachment:factory_method.png)"
   ]
  },
  {
   "cell_type": "markdown",
   "metadata": {},
   "source": [
    "***De esta forma se puede separar la parte de creación con la de interacción, de manera de que se pueden \"enchufar\" las distintas interacciones con los distintos animales***"
   ]
  }
 ],
 "metadata": {
  "kernelspec": {
   "display_name": "Ruby 2.6.3",
   "language": "ruby",
   "name": "ruby"
  },
  "language_info": {
   "file_extension": ".rb",
   "mimetype": "application/x-ruby",
   "name": "ruby",
   "version": "2.6.3"
  }
 },
 "nbformat": 4,
 "nbformat_minor": 4
}
