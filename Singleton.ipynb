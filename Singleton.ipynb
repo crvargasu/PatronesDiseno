{
 "cells": [
  {
   "cell_type": "markdown",
   "metadata": {},
   "source": [
    "@@ significa q es un atributo de clase, es decir todas las instancias de dicha clase tendrán el mismo valor, la variable guarda la unica instancia"
   ]
  },
  {
   "cell_type": "code",
   "execution_count": 1,
   "metadata": {},
   "outputs": [],
   "source": [
    "class SimpleLogger  \n",
    "  \n",
    "    @@instance = SimpleLogger.new \n",
    "    def self.instance    \n",
    "        return @@instance\n",
    "    end \n",
    "    def info(informacion) \n",
    "        @inf = informacion   \n",
    "        puts @inf\n",
    "    end \n",
    "    private_class_method :new\n",
    "    attr_accessor :inf\n",
    "end\n"
   ]
  },
  {
   "cell_type": "markdown",
   "metadata": {},
   "source": [
    "Ahora se invoca a la clase como 'SimpleLogger.instance' y esta será única.\n",
    "Es algo así como que instance se apodera de la clase\n",
    "\n",
    "logger3 = SimpleLogger.new() -> No es válido, porque es un método privado, solo se puede instanciar la misma simplelogger de siempre, no se pueden crear nuevas. "
   ]
  },
  {
   "cell_type": "code",
   "execution_count": 2,
   "metadata": {},
   "outputs": [
    {
     "name": "stdout",
     "output_type": "stream",
     "text": [
      "#<SimpleLogger:0x00007fee31975de8>\n",
      "#<SimpleLogger:0x00007fee31975de8>\n",
      "Computer wins chess game.\n",
      "User wins chess game.\n",
      "User wins chess game.\n"
     ]
    }
   ],
   "source": [
    "logger1 = SimpleLogger.instance   # Returns the logger\n",
    "logger2 = SimpleLogger.instance   # Returns exactly the same logger\n",
    "\n",
    "puts logger1\n",
    "puts logger2 #SON IGUALES\n",
    "SimpleLogger.instance.info('Computer wins chess game.')\n",
    "logger1.info('User wins chess game.')\n",
    "puts(logger2.inf)"
   ]
  }
 ],
 "metadata": {
  "kernelspec": {
   "display_name": "Ruby 2.6.3",
   "language": "ruby",
   "name": "ruby"
  },
  "language_info": {
   "file_extension": ".rb",
   "mimetype": "application/x-ruby",
   "name": "ruby",
   "version": "2.6.3"
  }
 },
 "nbformat": 4,
 "nbformat_minor": 4
}
